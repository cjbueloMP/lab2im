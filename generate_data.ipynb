{
 "cells": [
  {
   "cell_type": "code",
   "execution_count": 1,
   "metadata": {},
   "outputs": [
    {
     "name": "stderr",
     "output_type": "stream",
     "text": [
      "Using TensorFlow backend.\n"
     ]
    }
   ],
   "source": [
    "import sys\n",
    "import os\n",
    "import nibabel as nb\n",
    "import numpy as np\n",
    "import ext.neuron\n",
    "import scipy\n",
    "import lab2im\n",
    "import matplotlib.pyplot as plt\n",
    "basepath = os.getcwd()"
   ]
  },
  {
   "cell_type": "code",
   "execution_count": 2,
   "metadata": {},
   "outputs": [
    {
     "name": "stdout",
     "output_type": "stream",
     "text": [
      "(256, 256, 256)\n"
     ]
    },
    {
     "data": {
      "text/plain": [
       "<matplotlib.image.AxesImage at 0x7f4d4718e4e0>"
      ]
     },
     "execution_count": 2,
     "metadata": {},
     "output_type": "execute_result"
    },
    {
     "data": {
      "image/png": "[encoded data removed]",
      "text/plain": [
       "<Figure size 432x288 with 1 Axes>"
      ]
     },
     "metadata": {
      "needs_background": "light"
     },
     "output_type": "display_data"
    }
   ],
   "source": [
    "# classes and numbers: 0: background, 1: liver, 2: vasculature in liver, 3: fat, 4: spleen, 5: muscle, 6: lung, 7: general organs\n",
    "# need to assign susceptibility values to these.\n",
    "os.chdir(basepath)\n",
    "#liver_means = np.array([[0, -6, -9, -7, -7.12, -7.38, 0, -9],\n",
    "#                        [1,1,1,1,1,1,1,1]])\n",
    "liver_means = np.array([np.array([0, -6, -9, -7, -7.12, -7.38, 0, -9]),\n",
    "                        np.array([0,5,1,3,3,3,0,3])])\n",
    "np.save('liver_means.npy',liver_means)\n",
    "#liver_std = np.array([[0, -6, -9, -7, -7.12, -7.38, 0, -9],\n",
    "#                      [1,1,1,1,1,1,1,1]])\n",
    "liver_std = np.array([[0,0,0,0,0,0,0,0],\n",
    "                      [0,0,0,0,0,0,0,0]])\n",
    "np.save('liver_stds.npy',liver_std)\n",
    "liver = nb.load('liver_all_parts_seg_20180410.nii.gz')\n",
    "liver = np.array(liver.dataobj)\n",
    "liver[:,:,0] = liver[:,:,1]\n",
    "liver[:,:,255] = liver[:,:,254]\n",
    "liver256 = liver[::2,::2,:]\n",
    "print(liver256.shape)\n",
    "liver_nii = nb.Nifti1Image(liver256, affine=np.eye(4))\n",
    "nb.save(liver_nii,'liver_256_all_parts_seg_20180410.nii.gz')\n",
    "plt.imshow(liver256[:,:,0],origin='lower')"
   ]
  },
  {
   "cell_type": "code",
   "execution_count": 3,
   "metadata": {},
   "outputs": [
    {
     "name": "stdout",
     "output_type": "stream",
     "text": [
      "Compiling list of unique labels\n",
      "processing 1/1\n"
     ]
    }
   ],
   "source": [
    "import os\n",
    "from lab2im.utils import save_volume\n",
    "from lab2im.image_generator import ImageGenerator\n",
    "\n",
    "os.chdir(basepath)\n",
    "# label map to generate images from\n",
    "path_label_map = './liver_256_all_parts_seg_20180410.nii.gz'\n",
    "\n",
    "# general parameters\n",
    "n_examples = 500\n",
    "n_eval = 50\n",
    "result_dir = '/raid/generated_images_101520'\n",
    "output_shape = None  # shape of the output images, obtained by randomly cropping the generated images\n",
    "\n",
    "prior_distribution = 'normal'\n",
    "prior_means = './liver_means.npy'\n",
    "prior_stds = './liver_stds.npy'\n",
    "\n",
    "liver_generator = ImageGenerator(labels_dir = path_label_map,\n",
    "                                prior_distributions=prior_distribution,\n",
    "                                prior_means=prior_means,\n",
    "                                prior_stds=prior_stds,\n",
    "                                )\n",
    "\n",
    "# create result dir\n",
    "if not os.path.exists(os.path.join(result_dir)):\n",
    "    os.mkdir(result_dir)\n",
    "train_dir = os.path.join(result_dir,'train')\n",
    "if not os.path.exists(train_dir):\n",
    "    os.mkdir(train_dir)\n",
    "\n",
    "for n in range(n_examples):\n",
    "\n",
    "    # generate new image and corresponding labels\n",
    "    im, lab = liver_generator.generate_image()\n",
    "    # save output image and label map\n",
    "    save_volume(im, liver_generator.aff, liver_generator.header, os.path.join(train_dir, 'chi_%s.nii.gz' % n))\n",
    "    save_volume(lab, liver_generator.aff, liver_generator.header, os.path.join(train_dir, 'chi_labels_%s.nii.gz' % n))\n",
    "    \n",
    "eval_dir = os.path.join(result_dir,'eval')\n",
    "if not os.path.exists(eval_dir):\n",
    "    os.mkdir(eval_dir)\n",
    "    \n",
    "for n in range(n_eval):\n",
    "\n",
    "    # generate new image and corresponding labels\n",
    "    im, lab = liver_generator.generate_image()\n",
    "    # save output image and label map\n",
    "    save_volume(im, liver_generator.aff, liver_generator.header, os.path.join(eval_dir, 'chi_%s.nii.gz' % n))\n",
    "    save_volume(lab, liver_generator.aff, liver_generator.header, os.path.join(eval_dir, 'chi_labels_%s.nii.gz' % n))"
   ]
  },
  {
   "cell_type": "code",
   "execution_count": null,
   "metadata": {},
   "outputs": [],
   "source": []
  }
 ],
 "metadata": {
  "kernelspec": {
   "display_name": "Python 3",
   "language": "python",
   "name": "python3"
  },
  "language_info": {
   "codemirror_mode": {
    "name": "ipython",
    "version": 3
   },
   "file_extension": ".py",
   "mimetype": "text/x-python",
   "name": "python",
   "nbconvert_exporter": "python",
   "pygments_lexer": "ipython3",
   "version": "3.6.8"
  }
 },
 "nbformat": 4,
 "nbformat_minor": 4
}
